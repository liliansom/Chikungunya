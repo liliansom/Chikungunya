{
 "cells": [
  {
   "cell_type": "markdown",
   "id": "7c56478f",
   "metadata": {},
   "source": [
    "## Preparação dos Dados"
   ]
  },
  {
   "cell_type": "code",
   "execution_count": null,
   "id": "c37574cc",
   "metadata": {},
   "outputs": [],
   "source": [
    "# Importando bibliotecas\n",
    "import pandas as pd\n",
    "import requests\n",
    "from bs4 import BeautifulSoup"
   ]
  },
  {
   "cell_type": "code",
   "execution_count": null,
   "id": "0b8a0a93",
   "metadata": {},
   "outputs": [],
   "source": [
    "# Lista de funções\n",
    "def alt_type_int(df, columns):\n",
    "    df.loc[:, columns] = df.loc[:, columns].astype(int)\n",
    "    return df.dtypes\n"
   ]
  },
  {
   "cell_type": "code",
   "execution_count": null,
   "id": "36b45d90",
   "metadata": {},
   "outputs": [],
   "source": [
    "# Puxando site\n",
    "response = requests.get(\"https://www.saude.sp.gov.br/resources/cve-centro-de-vigilancia-epidemiologica/areas-de-vigilancia/doencas-de-transmissao-por-vetores-e-zoonoses/dados/chikung/2023/chikung23_se.html\")\n",
    "if response.status_code != 200:\n",
    "    print(f\"Erro {response.status_code}\")\n",
    "else:\n",
    "    print(\"Request realizada com sucesso!\")"
   ]
  },
  {
   "cell_type": "code",
   "execution_count": null,
   "id": "b63b443d",
   "metadata": {
    "scrolled": true
   },
   "outputs": [],
   "source": [
    "# Webscrapping dos dados\n",
    "soup = BeautifulSoup(response.text, 'html.parser')\n",
    "table = soup.find('table') # encontra a tag <table>\n",
    "table\n",
    "\n",
    "df = pd.read_html(str(table))[0]\n",
    "\n",
    "# exibe o dataframe\n",
    "display(df)\n"
   ]
  },
  {
   "cell_type": "markdown",
   "id": "de4f2b34",
   "metadata": {},
   "source": [
    "## Análise de Dados"
   ]
  },
  {
   "cell_type": "code",
   "execution_count": null,
   "id": "77acb5ae",
   "metadata": {},
   "outputs": [],
   "source": [
    "df = df.drop(0)"
   ]
  },
  {
   "cell_type": "code",
   "execution_count": null,
   "id": "fefc0a73",
   "metadata": {},
   "outputs": [],
   "source": [
    "# Transformando a linha em nomes das colunas\n",
    "new_header = df.iloc[0]\n",
    "df = df[1:]\n",
    "df = df.rename(columns=new_header)\n",
    "df"
   ]
  },
  {
   "cell_type": "code",
   "execution_count": null,
   "id": "57d3849f",
   "metadata": {},
   "outputs": [],
   "source": [
    "# Retirando as linhas vazias\n",
    "df = df.dropna(how='all')\n",
    "df"
   ]
  },
  {
   "cell_type": "code",
   "execution_count": null,
   "id": "fe8556e1",
   "metadata": {},
   "outputs": [],
   "source": [
    "# Retirando as duas últimas linhas que não pertencem aos dados da tabela\n",
    "df = df.iloc[:-3]\n",
    "df"
   ]
  },
  {
   "cell_type": "code",
   "execution_count": null,
   "id": "855daf88",
   "metadata": {},
   "outputs": [],
   "source": [
    "# Retirando a primeira e a última coluna da tabela\n",
    "df = df.iloc[:, :-1]\n",
    "df"
   ]
  },
  {
   "cell_type": "code",
   "execution_count": null,
   "id": "2df645d1",
   "metadata": {},
   "outputs": [],
   "source": [
    "# Separando a coluna municípios\n",
    "df[['Num_Municipio', 'Municipio']] = df['município'].str.split(' ', n=1, expand=True)\n",
    "df.drop('município', axis=1, inplace=True)\n",
    "df"
   ]
  },
  {
   "cell_type": "code",
   "execution_count": null,
   "id": "6b5751a0",
   "metadata": {
    "scrolled": true
   },
   "outputs": [],
   "source": [
    "df.columns"
   ]
  },
  {
   "cell_type": "code",
   "execution_count": null,
   "id": "f3576b40",
   "metadata": {},
   "outputs": [],
   "source": [
    "df.columns.values[0] = \"Num_DRS\"\n",
    "df = df.rename(columns={'Num_DRS': 'Num_DRS', 'DRS': 'DRS'})\n",
    "df.columns.values[2] = \"Num_GVE\"\n",
    "df = df.rename(columns={'Num_GVE': 'Num_GVE'})\n",
    "df.columns.values[2] = \"Num_GVE\"\n",
    "df = df.rename(columns={'Num_GVE': 'Num_GVE'})\n",
    "df.columns.values[4] = \"Num_Região_Saúde\"\n",
    "df = df.rename(columns={'Num_Região_Saúde': 'Num_Região_Saúde'})\n",
    "df = df.rename(columns={'município': 'Município'})"
   ]
  },
  {
   "cell_type": "code",
   "execution_count": null,
   "id": "416725f5",
   "metadata": {},
   "outputs": [],
   "source": [
    "df = df.rename(columns=lambda x: x.replace(\" \", \"\"))\n",
    "df"
   ]
  },
  {
   "cell_type": "code",
   "execution_count": null,
   "id": "117e37c8",
   "metadata": {},
   "outputs": [],
   "source": [
    "df.columns"
   ]
  },
  {
   "cell_type": "code",
   "execution_count": null,
   "id": "b49714a5",
   "metadata": {},
   "outputs": [],
   "source": [
    "# Resetando index e retirando colunas index e Total\n",
    "df = df.reset_index().drop(['index'], axis=1)\n",
    "df"
   ]
  },
  {
   "cell_type": "code",
   "execution_count": null,
   "id": "88ca8d4e",
   "metadata": {},
   "outputs": [],
   "source": [
    "df = df.reindex(columns=['Num_DRS', 'DRS', 'Num_GVE', 'GVE', 'Num_Região_Saúde', 'RegiãodeSaúde', 'Num_Municipio', 'Municipio',\n",
    "       'SE01', 'SE02', 'SE03', 'SE04', 'SE05', 'SE06', 'SE07', 'SE08', 'SE09',\n",
    "       'SE10', 'SE11', 'SE12', 'SE13'])"
   ]
  },
  {
   "cell_type": "code",
   "execution_count": null,
   "id": "7640ac56",
   "metadata": {},
   "outputs": [],
   "source": [
    "# Verificando nomes das colunas\n",
    "df.columns"
   ]
  },
  {
   "cell_type": "code",
   "execution_count": null,
   "id": "146016c7",
   "metadata": {
    "scrolled": true
   },
   "outputs": [],
   "source": [
    "# Verificando nulos\n",
    "df.isnull().sum()"
   ]
  },
  {
   "cell_type": "code",
   "execution_count": null,
   "id": "14b7b547",
   "metadata": {
    "scrolled": true
   },
   "outputs": [],
   "source": [
    "# Verificando os tipos das colunas\n",
    "df.dtypes"
   ]
  },
  {
   "cell_type": "code",
   "execution_count": null,
   "id": "df6053ef",
   "metadata": {},
   "outputs": [],
   "source": [
    "# Transformando os tipos das colunas de semanas em inteiro \n",
    "columns = ['SE01', 'SE02', 'SE03', 'SE04', 'SE05', 'SE06', 'SE07', 'SE08', 'SE09', 'SE10', 'SE11', 'SE12', 'SE13']\n",
    "\n",
    "for column in columns:\n",
    "    alt_type_int(df, column)"
   ]
  },
  {
   "cell_type": "code",
   "execution_count": null,
   "id": "f971b7b9",
   "metadata": {},
   "outputs": [],
   "source": [
    "# # Verificando tipos das colunas\n",
    "df.dtypes"
   ]
  },
  {
   "cell_type": "markdown",
   "id": "aad5b8e2",
   "metadata": {},
   "source": [
    "## Armazenamento de Dados"
   ]
  },
  {
   "cell_type": "code",
   "execution_count": null,
   "id": "abe8bf4c",
   "metadata": {},
   "outputs": [],
   "source": [
    "# Criando tabela dimensão de municípios\n",
    "dim_municipios = df.iloc[:, :7]\n",
    "dim_municipios.columns"
   ]
  },
  {
   "cell_type": "code",
   "execution_count": null,
   "id": "1e6814a2",
   "metadata": {},
   "outputs": [],
   "source": [
    "# Gerando arquivo csv para tabela dimensão de municípios\n",
    "dim_municipios.to_csv('data/dim.municipios.csv', encoding='utf-8')"
   ]
  },
  {
   "cell_type": "code",
   "execution_count": null,
   "id": "7e53ca40",
   "metadata": {},
   "outputs": [],
   "source": [
    "# Criando tabela fatos de números de casos\n",
    "fact_casos = df.iloc[:, list(range(7, len(df.columns)))]\n",
    "fact_casos"
   ]
  },
  {
   "cell_type": "code",
   "execution_count": null,
   "id": "6c72376f",
   "metadata": {},
   "outputs": [],
   "source": [
    "# Gerando arquivo csv para tabela fatos de notificações\n",
    "fact_casos.to_csv('data/fact.casos.csv', encoding='utf-8')"
   ]
  }
 ],
 "metadata": {
  "kernelspec": {
   "display_name": "Python 3 (ipykernel)",
   "language": "python",
   "name": "python3"
  },
  "language_info": {
   "codemirror_mode": {
    "name": "ipython",
    "version": 3
   },
   "file_extension": ".py",
   "mimetype": "text/x-python",
   "name": "python",
   "nbconvert_exporter": "python",
   "pygments_lexer": "ipython3",
   "version": "3.9.16"
  }
 },
 "nbformat": 4,
 "nbformat_minor": 5
}
